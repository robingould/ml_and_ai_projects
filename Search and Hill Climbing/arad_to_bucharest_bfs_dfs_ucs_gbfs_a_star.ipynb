{
  "cells": [
    {
      "cell_type": "markdown",
      "id": "6054f764",
      "metadata": {
        "deletable": false,
        "editable": false,
        "id": "6054f764"
      },
      "source": [
        "## CSE 4705: Assignment 02 - Arad to Bucharest - BFS, DFS, UCS, GBFS, A*\n"
      ]
    },
    {
      "cell_type": "markdown",
      "id": "1393af5b",
      "metadata": {
        "deletable": false,
        "id": "1393af5b"
      },
      "source": [
        "## Problem 1\n",
        "[100] Write a routine that solves the problem of finds a travel path of cities from from Arad to Bucharest in Romania, as discussed in class. Do this using each of the following approaches (points shown in brackets):\n",
        "\n",
        "1. [15] Breadth First Search (BFS)\n",
        "2. [10] Depth First Search (DFS)\n",
        "3. [25] Uniform Cost Search (UCS)\n",
        "4. [25] Greedy Best First Search (GBFS)\n",
        "5. [25] A*\n",
        "\n",
        "\n",
        "You will use the map from Lecture 03 - Informed Search which shows the major cities in Romania and the distances between them for those cities that are directly connected.  Also, you will use the straight-line-distances shown in the adjacent table for your heuristic function, $h(n)$ for GBFS and A*.  A screenshot of the relevant slide is given below.  Data structures that store this information, romania_map and sld_to_bucharest, have been provided so you can access and apply this data in your algorithm implementations.  Details of these data structures are given below.\n",
        "\n",
        "<img src=\"images/romania_cities.png\" width=\"800\" height=\"600\">\n",
        "\n",
        "### Output for Each Routine\n",
        "\n",
        "Each of your routines should return an output or set of outputs that clearly indicates the following:\n",
        "\n",
        "1. The sequence of cities from Arad to Bucharest.  (Make sure the cities, Arad and Bucharest are explicitly listed as the first and last cities in your output.)  One suggestion is to return this output in the form of a list.\n",
        "2. Cost to travel to each city from its predecessor.  \n",
        "3. Total cost for the path.  \n",
        "\n",
        "In the case of A* and Uniform Cost Search, your routines should return the *cheapest path*.  However, that will not necessarily be the case for BFS, DFS, or GBFS.  (Why not?)"
      ]
    },
    {
      "cell_type": "markdown",
      "id": "4bd90c49",
      "metadata": {
        "deletable": false,
        "editable": false,
        "id": "4bd90c49"
      },
      "source": [
        "### Romania Graph\n",
        "\n",
        "You will use the data structure stored in the romania_map, assigned below to implement the search across the various cities to find a path from Arad to Bucharest.\n",
        "\n",
        "Some details about romania_map:\n",
        "- A dictionary of dictionaries\n",
        "- The outer dictionary is as follows: each key is a city and the value for that city is a nested dictionary of cities to which the said city is directly connected.\n",
        "- The nested dictionary contains the cities to which the parent key is directly connected (keys) and the corresponding distances from the parent city to those respective cities (values).\n",
        "- For example, for the city Oradea, we have a key in the outer dictionary (Oradea), and the associated value is a dictionary containing the Zerind and Sibiu as keys, where for each of these the values are the distances from Oradea to these respective cities.\n",
        "\n"
      ]
    },
    {
      "cell_type": "code",
      "execution_count": 608,
      "id": "2e39553c",
      "metadata": {
        "deletable": false,
        "editable": false,
        "id": "2e39553c"
      },
      "outputs": [],
      "source": [
        "romania_map = {\n",
        "    'Oradea':{'Zerind':71, 'Sibiu':151},\n",
        "    'Zerind':{'Oradea':71, 'Arad':75},\n",
        "    'Arad':{'Zerind':75, 'Sibiu':140, 'Timisoara':118},\n",
        "    'Timisoara':{'Arad':118, 'Lugoj':111},\n",
        "    'Lugoj':{'Timisoara':111, 'Mehadia':70},\n",
        "    'Mehadia':{'Lugoj':70, 'Dobreta':75},\n",
        "    'Dobreta':{'Mehadia':75, 'Craiova':120},\n",
        "    'Sibiu':{'Oradea':151, 'Fagaras':99, 'Rimnicu Vilcea':80, 'Arad':140},\n",
        "    'Rimnicu Vilcea':{'Sibiu':80, 'Pitesti':97, 'Craiova':146},\n",
        "    'Craiova':{'Rimnicu Vilcea':146, 'Pitesti':138, 'Dobreta':120},\n",
        "    'Fagaras':{'Sibiu':99, 'Bucharest':211},\n",
        "    'Pitesti':{'Rimnicu Vilcea':97, 'Bucharest':101, 'Craiova':138},\n",
        "    'Neamt':{'Iasi':87},\n",
        "    'Giurgiu':{'Bucharest':90},\n",
        "    'Bucharest':{'Pitesti':101, 'Fagaras':211, 'Urziceni':85, 'Giurgiu':90},\n",
        "    'Iasi':{'Neamt':87, 'Vaslui':92},\n",
        "    'Urziceni':{'Bucharest':85, 'Vaslui':142, 'Hirsova':98},\n",
        "    'Vaslui':{'Iasi':92, 'Urziceni':142},\n",
        "    'Hirsova':{'Urziceni':98, 'Eforie':86},\n",
        "    'Eforie':{'Hirsova':86}\n",
        "}"
      ]
    },
    {
      "cell_type": "code",
      "source": [
        "print(romania_map)"
      ],
      "metadata": {
        "colab": {
          "base_uri": "https://localhost:8080/"
        },
        "id": "nzaz9ytQOr5r",
        "outputId": "5d44c8db-3229-4f82-c9d4-223955494bc6"
      },
      "id": "nzaz9ytQOr5r",
      "execution_count": 609,
      "outputs": [
        {
          "output_type": "stream",
          "name": "stdout",
          "text": [
            "{'Oradea': {'Zerind': 71, 'Sibiu': 151}, 'Zerind': {'Oradea': 71, 'Arad': 75}, 'Arad': {'Zerind': 75, 'Sibiu': 140, 'Timisoara': 118}, 'Timisoara': {'Arad': 118, 'Lugoj': 111}, 'Lugoj': {'Timisoara': 111, 'Mehadia': 70}, 'Mehadia': {'Lugoj': 70, 'Dobreta': 75}, 'Dobreta': {'Mehadia': 75, 'Craiova': 120}, 'Sibiu': {'Oradea': 151, 'Fagaras': 99, 'Rimnicu Vilcea': 80, 'Arad': 140}, 'Rimnicu Vilcea': {'Sibiu': 80, 'Pitesti': 97, 'Craiova': 146}, 'Craiova': {'Rimnicu Vilcea': 146, 'Pitesti': 138, 'Dobreta': 120}, 'Fagaras': {'Sibiu': 99, 'Bucharest': 211}, 'Pitesti': {'Rimnicu Vilcea': 97, 'Bucharest': 101, 'Craiova': 138}, 'Neamt': {'Iasi': 87}, 'Giurgiu': {'Bucharest': 90}, 'Bucharest': {'Pitesti': 101, 'Fagaras': 211, 'Urziceni': 85, 'Giurgiu': 90}, 'Iasi': {'Neamt': 87, 'Vaslui': 92}, 'Urziceni': {'Bucharest': 85, 'Vaslui': 142, 'Hirsova': 98}, 'Vaslui': {'Iasi': 92, 'Urziceni': 142}, 'Hirsova': {'Urziceni': 98, 'Eforie': 86}, 'Eforie': {'Hirsova': 86}}\n"
          ]
        }
      ]
    },
    {
      "cell_type": "markdown",
      "id": "39c843be",
      "metadata": {
        "deletable": false,
        "editable": false,
        "id": "39c843be"
      },
      "source": [
        "### Heuristic Function Data - Straight-Line Distances to Bucharest\n",
        "\n",
        "You will use the dictionary below as your resource for retrieving straight-line distance data for implementing the GBFS and A* algorithms."
      ]
    },
    {
      "cell_type": "code",
      "source": [
        "print(romania_map['Oradea'])"
      ],
      "metadata": {
        "colab": {
          "base_uri": "https://localhost:8080/"
        },
        "id": "DRPwktiLCEKu",
        "outputId": "58d0fc86-df6d-4e64-b69f-7d613a9feee8"
      },
      "id": "DRPwktiLCEKu",
      "execution_count": 610,
      "outputs": [
        {
          "output_type": "stream",
          "name": "stdout",
          "text": [
            "{'Zerind': 71, 'Sibiu': 151}\n"
          ]
        }
      ]
    },
    {
      "cell_type": "code",
      "execution_count": 611,
      "id": "3f8011e4",
      "metadata": {
        "deletable": false,
        "editable": false,
        "id": "3f8011e4"
      },
      "outputs": [],
      "source": [
        "sld_to_Bucharest = {'Arad':366,\n",
        "                    'Bucharest':0,\n",
        "                    'Craiova':160,\n",
        "                    'Dobreta':242,\n",
        "                    'Eforie':161,\n",
        "                    'Fagaras':176,\n",
        "                    'Giurgiu':77,\n",
        "                    'Hirsova':151,\n",
        "                    'Iasi':226,\n",
        "                    'Lugoj':244,\n",
        "                    'Mehadia':241,\n",
        "                    'Neamt':234,\n",
        "                    'Oradea':380,\n",
        "                    'Pitesti':100,\n",
        "                    'Rimnicu Vilcea':193,\n",
        "                    'Sibiu':253,\n",
        "                    'Timisoara':329,\n",
        "                    'Urziceni':80,\n",
        "                    'Vaslui':199,\n",
        "                    'Zerind':374\n",
        "                   }"
      ]
    },
    {
      "cell_type": "markdown",
      "source": [
        "#Data Structures Setup"
      ],
      "metadata": {
        "id": "BhJH3SM5PVTA"
      },
      "id": "BhJH3SM5PVTA"
    },
    {
      "cell_type": "markdown",
      "source": [
        "Graph and Nodes"
      ],
      "metadata": {
        "id": "Twyjq6C92ZKz"
      },
      "id": "Twyjq6C92ZKz"
    },
    {
      "cell_type": "code",
      "source": [
        "class Node:\n",
        "    def __init__(self, name):\n",
        "        self.name = name\n",
        "        self.distance = float('inf')\n",
        "        self.predecessor = None\n",
        "\n",
        "    def __lt__(self, other):\n",
        "        return self.distance < other.distance\n",
        "\n",
        "    def __repr__(self):\n",
        "        return self.name\n",
        "\n",
        "class Graph:\n",
        "    def __init__(self, V, E = ()):\n",
        "        self.V = V\n",
        "        self.E = E\n",
        "\n",
        "\n",
        "    def neighbors(self, node):\n",
        "        return self.E.get(node, [])\n",
        "\n",
        "    def __len__(self):\n",
        "        return len(self.V)"
      ],
      "metadata": {
        "id": "X3bssXUUPU80"
      },
      "id": "X3bssXUUPU80",
      "execution_count": 612,
      "outputs": []
    },
    {
      "cell_type": "code",
      "source": [
        "map_verts = {}\n",
        "for v in romania_map.keys():\n",
        "  map_verts[v] = Node(v)\n",
        "\n",
        "map_edges = {map_verts[city]: [(map_verts[neighbor], cost) for neighbor, cost in connections.items()] for city, connections in romania_map.items()}\n",
        "romania_graph = Graph(map_verts, map_edges)"
      ],
      "metadata": {
        "id": "ml66uFhEP_iv"
      },
      "id": "ml66uFhEP_iv",
      "execution_count": 613,
      "outputs": []
    },
    {
      "cell_type": "markdown",
      "source": [
        "Priority Queue"
      ],
      "metadata": {
        "id": "gVwR1Vgb2az9"
      },
      "id": "gVwR1Vgb2az9"
    },
    {
      "cell_type": "code",
      "source": [
        "class PriorityQueue(object):\n",
        "    def __init__(self):\n",
        "        self.queue = []\n",
        "\n",
        "    def __str__(self):\n",
        "        return ' '.join([str(i) for i in self.queue])\n",
        "\n",
        "    def isEmpty(self):\n",
        "        return len(self.queue) == 0\n",
        "\n",
        "    def insert(self, data):\n",
        "        self.queue.append(data)\n",
        "\n",
        "    def count(self, input):\n",
        "        count = 0\n",
        "        for i in self.queue:\n",
        "          if i[1].name == input[1].name:\n",
        "            count += 1\n",
        "        return count\n",
        "\n",
        "    def remove_larger_duplicates(self, input):\n",
        "      for i in self.queue:\n",
        "        if i[1].name == input[1].name and i[0] < input[0]:\n",
        "          self.queue.remove(i)\n",
        "          break\n",
        "\n",
        "    def get(self):\n",
        "       item = min(self.queue)\n",
        "       self.queue.remove(item)\n",
        "\n",
        "       return item"
      ],
      "metadata": {
        "id": "vS0VjzMf2kCK"
      },
      "id": "vS0VjzMf2kCK",
      "execution_count": 614,
      "outputs": []
    },
    {
      "cell_type": "markdown",
      "id": "aaad6190",
      "metadata": {
        "deletable": false,
        "editable": false,
        "id": "aaad6190"
      },
      "source": [
        "### 1. BFS Implementation\n",
        "\n",
        "Provide your implementation of the BFS Search below."
      ]
    },
    {
      "cell_type": "code",
      "source": [
        "def path_to_goal(start_node, end_node):\n",
        "  s = end_node\n",
        "  out = []\n",
        "  while s != start_node:\n",
        "    out.append(s.name)\n",
        "    s = s.predecessor\n",
        "  out.append(start_node.name)\n",
        "  return out[::-1]"
      ],
      "metadata": {
        "id": "z8MEfltCPQDe"
      },
      "id": "z8MEfltCPQDe",
      "execution_count": 615,
      "outputs": []
    },
    {
      "cell_type": "code",
      "source": [
        "def BFS(graph, start_node):\n",
        "  visited_nodes = set()\n",
        "  frontier = []\n",
        "\n",
        "  start_node.predecessor = None\n",
        "  visited_nodes.add(start_node)\n",
        "  frontier.append(start_node)\n",
        "\n",
        "  while frontier:\n",
        "    current_node = frontier.pop(0)\n",
        "    for neighbor_node, distance in graph.neighbors(current_node):\n",
        "      if neighbor_node not in visited_nodes:\n",
        "        neighbor_node.predecessor = current_node\n",
        "        if neighbor_node.name == 'Bucharest':\n",
        "          return path_to_goal(start_node, neighbor_node)\n",
        "        visited_nodes.add(neighbor_node)\n",
        "        frontier.append(neighbor_node)\n",
        "  return None"
      ],
      "metadata": {
        "id": "P_AfYA9Xa3jd"
      },
      "id": "P_AfYA9Xa3jd",
      "execution_count": 616,
      "outputs": []
    },
    {
      "cell_type": "code",
      "source": [
        "def get_dist(path):\n",
        "  dist = 0\n",
        "  for i in range(len(path)-1):\n",
        "    dist += romania_map[path[i]][path[i+1]]\n",
        "  return dist"
      ],
      "metadata": {
        "id": "3omv9xe50jE3"
      },
      "id": "3omv9xe50jE3",
      "execution_count": 617,
      "outputs": []
    },
    {
      "cell_type": "code",
      "source": [
        "path_bfs = BFS(romania_graph, romania_graph.V['Arad'])\n",
        "print(path_bfs)\n",
        "print(get_dist(path_bfs))"
      ],
      "metadata": {
        "colab": {
          "base_uri": "https://localhost:8080/"
        },
        "id": "ukRa3iy4xSUf",
        "outputId": "a1824f58-d775-4301-d774-f6fc527c2484"
      },
      "id": "ukRa3iy4xSUf",
      "execution_count": 618,
      "outputs": [
        {
          "output_type": "stream",
          "name": "stdout",
          "text": [
            "['Arad', 'Sibiu', 'Fagaras', 'Bucharest']\n",
            "450\n"
          ]
        }
      ]
    },
    {
      "cell_type": "markdown",
      "id": "d7c03e3c",
      "metadata": {
        "deletable": false,
        "editable": false,
        "id": "d7c03e3c"
      },
      "source": [
        "### 2.  DFS Implementation\n",
        "\n",
        "Provide your implementation of the DFS Search below."
      ]
    },
    {
      "cell_type": "code",
      "execution_count": 619,
      "id": "65ee1bf0",
      "metadata": {
        "id": "65ee1bf0"
      },
      "outputs": [],
      "source": [
        "def DFS(graph, start_node):\n",
        "  visited_nodes = set()\n",
        "  frontier = []\n",
        "\n",
        "  start_node.predecessor = None\n",
        "  visited_nodes.add(start_node)\n",
        "  frontier.append(start_node)\n",
        "\n",
        "  while frontier:\n",
        "    current_node = frontier.pop()\n",
        "    for neighbor_node, distance in graph.neighbors(current_node):\n",
        "      if neighbor_node not in visited_nodes:\n",
        "        neighbor_node.predecessor = current_node\n",
        "        if neighbor_node.name == 'Bucharest':\n",
        "          return path_to_goal(start_node, neighbor_node)\n",
        "        visited_nodes.add(neighbor_node)\n",
        "        frontier.append(neighbor_node)\n",
        "  return None"
      ]
    },
    {
      "cell_type": "code",
      "execution_count": 620,
      "id": "73611d75",
      "metadata": {
        "id": "73611d75",
        "colab": {
          "base_uri": "https://localhost:8080/"
        },
        "outputId": "4259f59e-8c2e-4917-ec89-3e890ee86865"
      },
      "outputs": [
        {
          "output_type": "stream",
          "name": "stdout",
          "text": [
            "['Arad', 'Timisoara', 'Lugoj', 'Mehadia', 'Dobreta', 'Craiova', 'Pitesti', 'Bucharest']\n",
            "733\n"
          ]
        }
      ],
      "source": [
        "path_dfs = DFS(romania_graph, romania_graph.V['Arad'])\n",
        "print(path_dfs)\n",
        "print(get_dist(path_dfs))"
      ]
    },
    {
      "cell_type": "markdown",
      "id": "96b855a1",
      "metadata": {
        "deletable": false,
        "editable": false,
        "id": "96b855a1"
      },
      "source": [
        "### 3. UCS Implementation\n",
        "\n",
        "Provide your implementation of the UCS Search below."
      ]
    },
    {
      "cell_type": "code",
      "source": [
        "def UCS(graph, start_node):\n",
        "  start_node.predecessor = None\n",
        "  frontier = PriorityQueue()\n",
        "  frontier.insert((0, start_node))\n",
        "\n",
        "  explored_nodes = []\n",
        "  while not frontier.isEmpty():\n",
        "    priority, current_node = frontier.get()\n",
        "    explored_nodes.append(current_node)\n",
        "    if current_node.name == 'Bucharest':\n",
        "      return path_to_goal(start_node, current_node)\n",
        "    for neighbor_node, distance in graph.neighbors(current_node):\n",
        "      if neighbor_node not in explored_nodes:\n",
        "        neighbor_node.predecessor = current_node\n",
        "        f_n = priority + distance\n",
        "        if frontier.count((f_n, neighbor_node)) > 0:\n",
        "          frontier.remove_larger_duplicates((f_n, neighbor_node))\n",
        "        else:\n",
        "          frontier.insert((f_n, neighbor_node))\n",
        "\n",
        "  return None"
      ],
      "metadata": {
        "id": "X8EQuu9Q1p4q"
      },
      "id": "X8EQuu9Q1p4q",
      "execution_count": 627,
      "outputs": []
    },
    {
      "cell_type": "code",
      "source": [
        "path_ucs = UCS(romania_graph, romania_graph.V['Arad'])\n",
        "print(path_ucs)\n",
        "print(get_dist(path_ucs))"
      ],
      "metadata": {
        "colab": {
          "base_uri": "https://localhost:8080/"
        },
        "id": "f6xTc-3Z-K8Z",
        "outputId": "edd06bf4-90c8-4250-945e-1ddfa55f9dd9"
      },
      "id": "f6xTc-3Z-K8Z",
      "execution_count": 628,
      "outputs": [
        {
          "output_type": "stream",
          "name": "stdout",
          "text": [
            "['Arad', 'Sibiu', 'Rimnicu Vilcea', 'Pitesti', 'Bucharest']\n",
            "418\n"
          ]
        }
      ]
    },
    {
      "cell_type": "markdown",
      "id": "482eb6c4",
      "metadata": {
        "deletable": false,
        "editable": false,
        "id": "482eb6c4"
      },
      "source": [
        "### 4. GBFS Implementation\n",
        "\n",
        "Provide your implementation of the GBFS Search below."
      ]
    },
    {
      "cell_type": "code",
      "execution_count": 629,
      "id": "6abab9d3",
      "metadata": {
        "id": "6abab9d3"
      },
      "outputs": [],
      "source": [
        "def GBFS(graph, start_node):\n",
        "  start_node.predecessor = None\n",
        "  frontier = PriorityQueue()\n",
        "  frontier.insert((0, start_node))\n",
        "\n",
        "  explored_nodes = []\n",
        "\n",
        "  while not frontier.isEmpty():\n",
        "    priority, current_node = frontier.get()\n",
        "    explored_nodes.append(current_node)\n",
        "    if current_node.name == 'Bucharest':\n",
        "      return path_to_goal(start_node, current_node)\n",
        "    for neighbor_node, distance in graph.neighbors(current_node):\n",
        "      if neighbor_node not in explored_nodes:\n",
        "        neighbor_node.predecessor = current_node\n",
        "        f_n = sld_to_Bucharest[neighbor_node.name]\n",
        "        frontier.insert((f_n, neighbor_node))\n",
        "        frontier.remove_larger_duplicates((f_n, neighbor_node))\n",
        "  return None"
      ]
    },
    {
      "cell_type": "code",
      "execution_count": 630,
      "id": "3638eb80",
      "metadata": {
        "id": "3638eb80",
        "colab": {
          "base_uri": "https://localhost:8080/"
        },
        "outputId": "3f017c7e-7f3d-4183-997a-6b7721690592"
      },
      "outputs": [
        {
          "output_type": "stream",
          "name": "stdout",
          "text": [
            "['Arad', 'Sibiu', 'Fagaras', 'Bucharest']\n",
            "450\n"
          ]
        }
      ],
      "source": [
        "path_gbfs = GBFS(romania_graph, romania_graph.V['Arad'])\n",
        "print(path_gbfs)\n",
        "print(get_dist(path_gbfs))"
      ]
    },
    {
      "cell_type": "markdown",
      "id": "18423249",
      "metadata": {
        "deletable": false,
        "editable": false,
        "id": "18423249"
      },
      "source": [
        "### 5. A* Implementation\n",
        "\n",
        "Provide your implementation of the A* Algorithm below."
      ]
    },
    {
      "cell_type": "code",
      "execution_count": 631,
      "id": "2647730d",
      "metadata": {
        "id": "2647730d"
      },
      "outputs": [],
      "source": [
        "def AStar(graph, start_node):\n",
        "  start_node.predecessor = None\n",
        "  frontier = PriorityQueue()\n",
        "  frontier.insert((0, start_node))\n",
        "\n",
        "  explored_nodes = []\n",
        "\n",
        "  while not frontier.isEmpty():\n",
        "    priority, current_node = frontier.get()\n",
        "    explored_nodes.append(current_node)\n",
        "    if current_node.name == 'Bucharest':\n",
        "      return path_to_goal(start_node, current_node)\n",
        "    for neighbor_node, distance in graph.neighbors(current_node):\n",
        "      if neighbor_node not in explored_nodes:\n",
        "        neighbor_node.predecessor = current_node\n",
        "        f_n = sld_to_Bucharest[neighbor_node.name] + distance\n",
        "        frontier.insert((f_n, neighbor_node))\n",
        "        frontier.remove_larger_duplicates((f_n, neighbor_node))\n",
        "  return None"
      ]
    },
    {
      "cell_type": "code",
      "execution_count": 632,
      "id": "f507d40e",
      "metadata": {
        "id": "f507d40e",
        "colab": {
          "base_uri": "https://localhost:8080/"
        },
        "outputId": "8927c1e3-478c-4e66-cbdc-4b1f8012f23c"
      },
      "outputs": [
        {
          "output_type": "stream",
          "name": "stdout",
          "text": [
            "['Arad', 'Sibiu', 'Rimnicu Vilcea', 'Pitesti', 'Bucharest']\n",
            "418\n"
          ]
        }
      ],
      "source": [
        "path_astar = AStar(romania_graph, romania_graph.V['Arad'])\n",
        "print(path_astar)\n",
        "print(get_dist(path_astar))"
      ]
    }
  ],
  "metadata": {
    "kernelspec": {
      "display_name": "Python 3 (ipykernel)",
      "language": "python",
      "name": "python3"
    },
    "language_info": {
      "codemirror_mode": {
        "name": "ipython",
        "version": 3
      },
      "file_extension": ".py",
      "mimetype": "text/x-python",
      "name": "python",
      "nbconvert_exporter": "python",
      "pygments_lexer": "ipython3",
      "version": "3.11.5"
    },
    "colab": {
      "provenance": []
    }
  },
  "nbformat": 4,
  "nbformat_minor": 5
}