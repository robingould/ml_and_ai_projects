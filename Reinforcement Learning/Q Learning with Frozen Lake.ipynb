{
  "nbformat": 4,
  "nbformat_minor": 0,
  "metadata": {
    "colab": {
      "provenance": [],
      "machine_shape": "hm"
    },
    "kernelspec": {
      "name": "python3",
      "display_name": "Python 3"
    },
    "language_info": {
      "name": "python"
    }
  },
  "cells": [
    {
      "cell_type": "markdown",
      "source": [
        "# Q Learning with Frozen Lake"
      ],
      "metadata": {
        "id": "RkWH-1-nLWE2"
      }
    },
    {
      "cell_type": "markdown",
      "source": [
        "The FrozenLake environment consists of a 4x4 grid of blocks as follows, with each one either being the start block (S), the goal block (G), a safe frozen block (F), or a dangerous hole (H).\n",
        "\n",
        "The objective is for an agent learn how to navigate from the start block to the goal without falling in a hole. At any time the agent can choose an action either to move up, down, left, or right. In the financial context, a similar problem could be thought of for trading decisions."
      ],
      "metadata": {
        "id": "TDVwCPqsLXkv"
      }
    },
    {
      "cell_type": "markdown",
      "source": [
        "![download.png](data:image/png;base64,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)"
      ],
      "metadata": {
        "id": "BXpGx2LxLn70"
      }
    },
    {
      "cell_type": "code",
      "source": [
        "!pip install gym==0.10.2"
      ],
      "metadata": {
        "colab": {
          "base_uri": "https://localhost:8080/"
        },
        "id": "Yp_yJsngW_td",
        "outputId": "f4ba2a1a-821b-43f5-a79d-527f1e0c46b7"
      },
      "execution_count": 1,
      "outputs": [
        {
          "output_type": "stream",
          "name": "stdout",
          "text": [
            "Collecting gym==0.10.2\n",
            "  Downloading gym-0.10.2.tar.gz (1.5 MB)\n",
            "\u001b[2K     \u001b[90m━━━━━━━━━━━━━━━━━━━━━━━━━━━━━━━━━━━━━━━━\u001b[0m \u001b[32m1.5/1.5 MB\u001b[0m \u001b[31m17.8 MB/s\u001b[0m eta \u001b[36m0:00:00\u001b[0m\n",
            "\u001b[?25h  Preparing metadata (setup.py) ... \u001b[?25l\u001b[?25hdone\n",
            "Requirement already satisfied: numpy>=1.10.4 in /usr/local/lib/python3.10/dist-packages (from gym==0.10.2) (1.25.2)\n",
            "Requirement already satisfied: requests>=2.0 in /usr/local/lib/python3.10/dist-packages (from gym==0.10.2) (2.31.0)\n",
            "Requirement already satisfied: six in /usr/local/lib/python3.10/dist-packages (from gym==0.10.2) (1.16.0)\n",
            "Collecting pyglet>=1.2.0 (from gym==0.10.2)\n",
            "  Downloading pyglet-2.0.14-py3-none-any.whl (876 kB)\n",
            "\u001b[2K     \u001b[90m━━━━━━━━━━━━━━━━━━━━━━━━━━━━━━━━━━━━━━━━\u001b[0m \u001b[32m876.8/876.8 kB\u001b[0m \u001b[31m66.4 MB/s\u001b[0m eta \u001b[36m0:00:00\u001b[0m\n",
            "\u001b[?25hRequirement already satisfied: charset-normalizer<4,>=2 in /usr/local/lib/python3.10/dist-packages (from requests>=2.0->gym==0.10.2) (3.3.2)\n",
            "Requirement already satisfied: idna<4,>=2.5 in /usr/local/lib/python3.10/dist-packages (from requests>=2.0->gym==0.10.2) (3.6)\n",
            "Requirement already satisfied: urllib3<3,>=1.21.1 in /usr/local/lib/python3.10/dist-packages (from requests>=2.0->gym==0.10.2) (2.0.7)\n",
            "Requirement already satisfied: certifi>=2017.4.17 in /usr/local/lib/python3.10/dist-packages (from requests>=2.0->gym==0.10.2) (2024.2.2)\n",
            "Building wheels for collected packages: gym\n",
            "  Building wheel for gym (setup.py) ... \u001b[?25l\u001b[?25hdone\n",
            "  Created wheel for gym: filename=gym-0.10.2-py3-none-any.whl size=1581203 sha256=0804f8f9a774f853a3462be98322894f254064ddbbb3a27155735e09cc959f25\n",
            "  Stored in directory: /root/.cache/pip/wheels/c2/17/c0/e97c3e64dac5d611726f781837059a6249f8e8535191269b4a\n",
            "Successfully built gym\n",
            "Installing collected packages: pyglet, gym\n",
            "  Attempting uninstall: gym\n",
            "    Found existing installation: gym 0.25.2\n",
            "    Uninstalling gym-0.25.2:\n",
            "      Successfully uninstalled gym-0.25.2\n",
            "Successfully installed gym-0.10.2 pyglet-2.0.14\n"
          ]
        }
      ]
    },
    {
      "cell_type": "code",
      "source": [
        "import numpy as np\n",
        "import gym\n",
        "import random"
      ],
      "metadata": {
        "id": "fYUTngP0Lyyy"
      },
      "execution_count": 2,
      "outputs": []
    },
    {
      "cell_type": "markdown",
      "source": [
        "Creating the environment"
      ],
      "metadata": {
        "id": "mvTM6fGrL7MR"
      }
    },
    {
      "cell_type": "code",
      "execution_count": 3,
      "metadata": {
        "colab": {
          "base_uri": "https://localhost:8080/"
        },
        "id": "rRSpNl5aLUuA",
        "outputId": "e2c76816-a162-4b34-cf1f-5812e8ecf818"
      },
      "outputs": [
        {
          "output_type": "stream",
          "name": "stderr",
          "text": [
            "/usr/local/lib/python3.10/dist-packages/gym/envs/registration.py:14: PkgResourcesDeprecationWarning: Parameters to load are deprecated.  Call .resolve and .require separately.\n",
            "  result = entry_point.load(False)\n"
          ]
        }
      ],
      "source": [
        "env = gym.make(\"FrozenLake-v0\")"
      ]
    },
    {
      "cell_type": "markdown",
      "source": [
        "A table (called Q table – Q is for quality) records a value for how good it is to take a given action within a given state. There are 16 possible states, one of which for each block, and 4 possible actions (left, right, up, down), so the table is of size 16x4. The table is initialized with all zeros, and updated when rewards received for various actions are observed. The value of each cell is the maximum expected future reward for that given state and action. The reward at every step is 0, except for entering the goal block, which provides a reward of 1."
      ],
      "metadata": {
        "id": "AKOBWEfmL6AF"
      }
    },
    {
      "cell_type": "code",
      "source": [
        "action_size = env.action_space.n\n",
        "state_size = env.observation_space.n\n",
        "qtable = np.zeros((state_size, action_size))\n",
        "print(qtable)"
      ],
      "metadata": {
        "colab": {
          "base_uri": "https://localhost:8080/"
        },
        "id": "sLE8PvW0L6Yj",
        "outputId": "1c20bac8-dff1-4076-e79a-220e260b0a98"
      },
      "execution_count": 4,
      "outputs": [
        {
          "output_type": "stream",
          "name": "stdout",
          "text": [
            "[[0. 0. 0. 0.]\n",
            " [0. 0. 0. 0.]\n",
            " [0. 0. 0. 0.]\n",
            " [0. 0. 0. 0.]\n",
            " [0. 0. 0. 0.]\n",
            " [0. 0. 0. 0.]\n",
            " [0. 0. 0. 0.]\n",
            " [0. 0. 0. 0.]\n",
            " [0. 0. 0. 0.]\n",
            " [0. 0. 0. 0.]\n",
            " [0. 0. 0. 0.]\n",
            " [0. 0. 0. 0.]\n",
            " [0. 0. 0. 0.]\n",
            " [0. 0. 0. 0.]\n",
            " [0. 0. 0. 0.]\n",
            " [0. 0. 0. 0.]]\n"
          ]
        }
      ]
    },
    {
      "cell_type": "markdown",
      "source": [
        "Define exploration parameters"
      ],
      "metadata": {
        "id": "BR_WkX0hL-Eu"
      }
    },
    {
      "cell_type": "code",
      "source": [
        "total_episodes = 100000       # Total episodes\n",
        "learning_rate = 0.8           # Learning rate\n",
        "max_steps = 1000              # Max steps each episode\n",
        "gamma = 0.95                  # Discounting rate\n",
        "\n",
        "epsilon = 0.5                 # Exploration rate\n",
        "max_epsilon = 0.5             # Exploration probability at start\n",
        "min_epsilon = 0.01            # Minimum exploration probability\n",
        "decay_rate = 0.005            # Exponential decay rate for exploration prob"
      ],
      "metadata": {
        "id": "J4uwUvYNL-_1"
      },
      "execution_count": 5,
      "outputs": []
    },
    {
      "cell_type": "markdown",
      "source": [
        "Implementing the SARSA algorithm. The Q table is updated using the following equation.\n",
        "$Q(S_t, A_t) ← Q(S_t, A_t) + \\alpha[R_{t+1} + γQ(S_{t+1}, A_{t+1}) - Q(S_t, A_t)]$\n"
      ],
      "metadata": {
        "id": "e8p1TKgPMIcS"
      }
    },
    {
      "cell_type": "code",
      "source": [
        "def next_action(qtable, epsilon, state):\n",
        "        if epsilon < random.uniform(0,1):\n",
        "            return np.argmax(qtable[state,:])\n",
        "\n",
        "        else:\n",
        "            return env.action_space.sample()"
      ],
      "metadata": {
        "id": "JeoiMAxUUojH"
      },
      "execution_count": 6,
      "outputs": []
    },
    {
      "cell_type": "code",
      "source": [
        "rewards = []\n",
        "for episode in range(total_episodes):\n",
        "    state = env.reset()\n",
        "    step = 0\n",
        "    done = False\n",
        "    total_rewards = 0\n",
        "    action = next_action(qtable, epsilon, state)\n",
        "    for step in range(max_steps):\n",
        "\n",
        "        new_state, reward, done, info = env.step(action)\n",
        "        new_action = next_action(qtable, epsilon, new_state)\n",
        "        # Update Q-Table\n",
        "        qtable[state, action] = qtable[state, action] + learning_rate * (reward + (gamma * qtable[new_state, new_action]) - qtable[state, action])\n",
        "\n",
        "        total_rewards += reward\n",
        "\n",
        "        # new state\n",
        "        state = new_state\n",
        "\n",
        "        if done == True:\n",
        "            break\n",
        "\n",
        "    # Reducing epsilon\n",
        "    epsilon = min_epsilon + (max_epsilon - min_epsilon) * np.exp(-decay_rate*episode)\n",
        "    rewards.append(total_rewards)\n",
        "\n",
        "print(\"Average rewards: \" + str(np.sum(rewards)/total_episodes))\n",
        "print(qtable)"
      ],
      "metadata": {
        "colab": {
          "base_uri": "https://localhost:8080/"
        },
        "id": "Pc2mlP8-Mk6x",
        "outputId": "6f61af9e-3faa-4b48-8d12-85ea169e09a9"
      },
      "execution_count": 12,
      "outputs": [
        {
          "output_type": "stream",
          "name": "stdout",
          "text": [
            "Average rewards: 0.01967\n",
            "[[0.39351231 0.39942974 0.408504   0.38634998]\n",
            " [0.         0.07615036 0.39944713 0.424651  ]\n",
            " [0.         0.34246325 0.38544039 0.42041087]\n",
            " [0.         0.07902616 0.0153873  0.41831599]\n",
            " [0.50494762 0.62373339 0.59705041 0.        ]\n",
            " [0.         0.         0.         0.        ]\n",
            " [0.         0.01189829 0.01280495 0.        ]\n",
            " [0.         0.         0.         0.        ]\n",
            " [0.44846551 0.75420725 0.68411164 0.        ]\n",
            " [0.         0.71891399 0.85222208 0.        ]\n",
            " [0.         0.89788607 0.15361913 0.        ]\n",
            " [0.         0.         0.         0.        ]\n",
            " [0.         0.         0.         0.        ]\n",
            " [0.         0.78128218 0.83152155 0.        ]\n",
            " [0.         0.99005278 0.97556506 0.        ]\n",
            " [0.         0.         0.         0.        ]]\n"
          ]
        }
      ]
    },
    {
      "cell_type": "code",
      "source": [
        "from IPython.display import clear_output\n",
        "import time\n",
        "env.reset()\n",
        "episodes = 5\n",
        "max_steps =1000\n",
        "\n",
        "for episode in range(episodes):\n",
        "    state = env.reset()\n",
        "    step = 0\n",
        "    done = False\n",
        "    print(\"*****************\")\n",
        "    print(\"Episodes\", episode)\n",
        "    print(\"*****************\")\n",
        "\n",
        "    for step in range(max_steps):\n",
        "        # Take the action that has the best Q value\n",
        "        action = np.argmax(qtable[state,:])\n",
        "        new_state, reward, done, info = env.step(action)\n",
        "\n",
        "        if done:\n",
        "            # Only print the last state (to see if our agent is on the goal or fall into an hole)\n",
        "            env.render()\n",
        "            print(\"Number of steps\", step)\n",
        "            break\n",
        "        state = new_state\n",
        "\n",
        "env.close()"
      ],
      "metadata": {
        "colab": {
          "base_uri": "https://localhost:8080/"
        },
        "id": "iV3s1SagX1sj",
        "outputId": "462ea149-0e3a-41a6-a682-197a9e8c264c"
      },
      "execution_count": 13,
      "outputs": [
        {
          "output_type": "stream",
          "name": "stdout",
          "text": [
            "*****************\n",
            "Episodes 0\n",
            "*****************\n",
            "  (Down)\n",
            "SFFF\n",
            "FHFH\n",
            "FFFH\n",
            "\u001b[41mH\u001b[0mFFG\n",
            "Number of steps 4\n",
            "*****************\n",
            "Episodes 1\n",
            "*****************\n",
            "  (Down)\n",
            "SFFF\n",
            "F\u001b[41mH\u001b[0mFH\n",
            "FFFH\n",
            "HFFG\n",
            "Number of steps 2\n",
            "*****************\n",
            "Episodes 2\n",
            "*****************\n",
            "  (Down)\n",
            "SFFF\n",
            "FHFH\n",
            "FFFH\n",
            "\u001b[41mH\u001b[0mFFG\n",
            "Number of steps 49\n",
            "*****************\n",
            "Episodes 3\n",
            "*****************\n",
            "  (Down)\n",
            "SFFF\n",
            "F\u001b[41mH\u001b[0mFH\n",
            "FFFH\n",
            "HFFG\n",
            "Number of steps 26\n",
            "*****************\n",
            "Episodes 4\n",
            "*****************\n",
            "  (Down)\n",
            "SFFF\n",
            "F\u001b[41mH\u001b[0mFH\n",
            "FFFH\n",
            "HFFG\n",
            "Number of steps 37\n"
          ]
        }
      ]
    }
  ]
}