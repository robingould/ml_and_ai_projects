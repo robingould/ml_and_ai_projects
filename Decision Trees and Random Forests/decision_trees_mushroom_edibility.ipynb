{
  "cells": [
    {
      "cell_type": "markdown",
      "metadata": {
        "id": "ftgOSnB486pN"
      },
      "source": [
        "# Assignment 5.2: Decision Trees\n",
        "\n",
        "In this exercise, you will implement a decision tree from scratch and apply it to the task of classifying whether a mushroom is edible or poisonous.\n",
        "\n",
        "# Outline\n",
        "- [ 1 - Packages ](#1)\n",
        "- [ 2 -  Problem Statement](#2)\n",
        "- [ 3 - Dataset](#3)\n",
        "  - [ 3.1 One hot encoded dataset](#3.1)\n",
        "- [ 4 - Decision Tree Refresher](#4)\n",
        "  - [ 4.1  Calculate entropy](#4.1)\n",
        "    - [ Exercise 1](#ex01)\n",
        "  - [ 4.2  Split dataset](#4.2)\n",
        "    - [ Exercise 2](#ex02)\n",
        "  - [ 4.3  Calculate information gain](#4.3)\n",
        "    - [ Exercise 3](#ex03)\n",
        "  - [ 4.4  Get best split](#4.4)\n",
        "    - [ Exercise 4](#ex04)\n",
        "- [ 5 - Building the tree](#5)\n"
      ],
      "id": "ftgOSnB486pN"
    },
    {
      "cell_type": "markdown",
      "metadata": {
        "id": "euEzzZRS86pO"
      },
      "source": [
        "<a name=\"1\"></a>\n",
        "## 1 - Packages\n",
        "\n",
        "First, run the cell below to import all the packages that you will need during this assignment.\n",
        "- [numpy](https://www.numpy.org) is the fundamental package for working with matrices in Python.\n",
        "- [matplotlib](https://matplotlib.org) is a famous library to plot graphs in Python.\n",
        "- ``utils.py`` contains helper functions for this assignment. You do not need to modify code in this file.\n"
      ],
      "id": "euEzzZRS86pO"
    },
    {
      "cell_type": "code",
      "execution_count": null,
      "metadata": {
        "deletable": false,
        "id": "bXqMaUZy86pO"
      },
      "outputs": [],
      "source": [
        "import numpy as np\n",
        "import matplotlib.pyplot as plt\n",
        "from public_tests_decision_trees import *\n",
        "from utils import *\n",
        "\n",
        "%matplotlib inline"
      ],
      "id": "bXqMaUZy86pO"
    },
    {
      "cell_type": "markdown",
      "metadata": {
        "id": "6EE5Z8hi86pO"
      },
      "source": [
        "<a name=\"2\"></a>\n",
        "## 2 -  Problem Statement\n",
        "\n",
        "Suppose you are starting a company that grows and sells wild mushrooms.\n",
        "- Since not all mushrooms are edible, you'd like to be able to tell whether a given mushroom is edible or poisonous based on it's physical attributes\n",
        "- You have some existing data that you can use for this task.\n",
        "\n",
        "Can you use the data to help you identify which mushrooms can be sold safely?\n",
        "\n",
        "Note: The dataset used is for illustrative purposes only. It is not meant to be a guide on identifying edible mushrooms.\n",
        "\n",
        "\n",
        "\n",
        "<a name=\"3\"></a>\n",
        "## 3 - Dataset\n",
        "\n",
        "You will start by loading the dataset for this task. The dataset you have collected is as follows:\n",
        "\n",
        "|                                                     | Cap Color | Stalk Shape | Solitary | Edible |\n",
        "|:---------------------------------------------------:|:---------:|:-----------:|:--------:|:------:|\n",
        "| <img src=\"images/0.png\" alt=\"drawing\" width=\"50\"/> |   Brown   |   Tapering  |    Yes   |    1   |\n",
        "| <img src=\"images/1.png\" alt=\"drawing\" width=\"50\"/> |   Brown   |  Enlarging  |    Yes   |    1   |\n",
        "| <img src=\"images/2.png\" alt=\"drawing\" width=\"50\"/> |   Brown   |  Enlarging  |    No    |    0   |\n",
        "| <img src=\"images/3.png\" alt=\"drawing\" width=\"50\"/> |   Brown   |  Enlarging  |    No    |    0   |\n",
        "| <img src=\"images/4.png\" alt=\"drawing\" width=\"50\"/> |   Brown   |   Tapering  |    Yes   |    1   |\n",
        "| <img src=\"images/5.png\" alt=\"drawing\" width=\"50\"/> |    Red    |   Tapering  |    Yes   |    0   |\n",
        "| <img src=\"images/6.png\" alt=\"drawing\" width=\"50\"/> |    Red    |  Enlarging  |    No    |    0   |\n",
        "| <img src=\"images/7.png\" alt=\"drawing\" width=\"50\"/> |   Brown   |  Enlarging  |    Yes   |    1   |\n",
        "| <img src=\"images/8.png\" alt=\"drawing\" width=\"50\"/> |    Red    |   Tapering  |    No    |    1   |\n",
        "| <img src=\"images/9.png\" alt=\"drawing\" width=\"50\"/> |   Brown   |  Enlarging  |    No    |    0   |\n",
        "\n",
        "\n",
        "-  You have 10 examples of mushrooms. For each example, you have\n",
        "    - Three features\n",
        "        - Cap Color (`Brown` or `Red`),\n",
        "        - Stalk Shape (`Tapering (as in \\/)` or `Enlarging (as in /\\)`), and\n",
        "        - Solitary (`Yes` or `No`)\n",
        "    - Label\n",
        "        - Edible (`1` indicating yes or `0` indicating poisonous)\n",
        "\n",
        "<a name=\"3.1\"></a>\n",
        "### 3.1 One hot encoded dataset\n",
        "For ease of implementation, we have one-hot encoded the features (turned them into 0 or 1 valued features)\n",
        "\n",
        "|                                                    | Brown Cap | Tapering Stalk Shape | Solitary | Edible |\n",
        "|:--------------------------------------------------:|:---------:|:--------------------:|:--------:|:------:|\n",
        "| <img src=\"images/0.png\" alt=\"drawing\" width=\"50\"/> |     1     |           1          |     1    |    1   |\n",
        "| <img src=\"images/1.png\" alt=\"drawing\" width=\"50\"/> |     1     |           0          |     1    |    1   |\n",
        "| <img src=\"images/2.png\" alt=\"drawing\" width=\"50\"/> |     1     |           0          |     0    |    0   |\n",
        "| <img src=\"images/3.png\" alt=\"drawing\" width=\"50\"/> |     1     |           0          |     0    |    0   |\n",
        "| <img src=\"images/4.png\" alt=\"drawing\" width=\"50\"/> |     1     |           1          |     1    |    1   |\n",
        "| <img src=\"images/5.png\" alt=\"drawing\" width=\"50\"/> |     0     |           1          |     1    |    0   |\n",
        "| <img src=\"images/6.png\" alt=\"drawing\" width=\"50\"/> |     0     |           0          |     0    |    0   |\n",
        "| <img src=\"images/7.png\" alt=\"drawing\" width=\"50\"/> |     1     |           0          |     1    |    1   |\n",
        "| <img src=\"images/8.png\" alt=\"drawing\" width=\"50\"/> |     0     |           1          |     0    |    1   |\n",
        "| <img src=\"images/9.png\" alt=\"drawing\" width=\"50\"/> |     1     |           0          |     0    |    0   |\n",
        "\n",
        "\n",
        "Therefore,\n",
        "- `X_train` contains three features for each example\n",
        "    - Brown Color (A value of `1` indicates \"Brown\" cap color and `0` indicates \"Red\" cap color)\n",
        "    - Tapering Shape (A value of `1` indicates \"Tapering Stalk Shape\" and `0` indicates \"Enlarging\" stalk shape)\n",
        "    - Solitary  (A value of `1` indicates \"Yes\" and `0` indicates \"No\")\n",
        "\n",
        "- `y_train` is whether the mushroom is edible\n",
        "    - `y = 1` indicates edible\n",
        "    - `y = 0` indicates poisonous"
      ],
      "id": "6EE5Z8hi86pO"
    },
    {
      "cell_type": "code",
      "execution_count": null,
      "metadata": {
        "deletable": false,
        "editable": false,
        "id": "v-qVKFP886pP"
      },
      "outputs": [],
      "source": [
        "X_train = np.array([[1,1,1],[1,0,1],[1,0,0],[1,0,0],[1,1,1],[0,1,1],[0,0,0],[1,0,1],[0,1,0],[1,0,0]])\n",
        "y_train = np.array([1,1,0,0,1,0,0,1,1,0])"
      ],
      "id": "v-qVKFP886pP"
    },
    {
      "cell_type": "markdown",
      "metadata": {
        "id": "WmqaTd3d86pP"
      },
      "source": [
        "#### View the variables\n",
        "Let's get more familiar with this dataset.  \n",
        "- A good place to start is to just print out each variable and see what it contains.\n",
        "\n",
        "The code below prints the first few elements of `X_train` and the type of the variable."
      ],
      "id": "WmqaTd3d86pP"
    },
    {
      "cell_type": "code",
      "execution_count": null,
      "metadata": {
        "deletable": false,
        "editable": false,
        "colab": {
          "base_uri": "https://localhost:8080/"
        },
        "id": "W9FElBV486pP",
        "outputId": "2feb2bf4-ae24-4055-ad48-424b23d19154"
      },
      "outputs": [
        {
          "output_type": "stream",
          "name": "stdout",
          "text": [
            "First few elements of X_train:\n",
            " [[1 1 1]\n",
            " [1 0 1]\n",
            " [1 0 0]\n",
            " [1 0 0]\n",
            " [1 1 1]]\n",
            "Type of X_train: <class 'numpy.ndarray'>\n"
          ]
        }
      ],
      "source": [
        "print(\"First few elements of X_train:\\n\", X_train[:5])\n",
        "print(\"Type of X_train:\",type(X_train))"
      ],
      "id": "W9FElBV486pP"
    },
    {
      "cell_type": "markdown",
      "metadata": {
        "id": "yA2Cgiz586pP"
      },
      "source": [
        "Now, let's do the same for `y_train`"
      ],
      "id": "yA2Cgiz586pP"
    },
    {
      "cell_type": "code",
      "execution_count": null,
      "metadata": {
        "deletable": false,
        "editable": false,
        "colab": {
          "base_uri": "https://localhost:8080/"
        },
        "id": "Axc34iO386pP",
        "outputId": "4ad9c655-98a0-49c7-d83b-4db9a2cd2da8"
      },
      "outputs": [
        {
          "output_type": "stream",
          "name": "stdout",
          "text": [
            "First few elements of y_train: [1 1 0 0 1]\n",
            "Type of y_train: <class 'numpy.ndarray'>\n"
          ]
        }
      ],
      "source": [
        "print(\"First few elements of y_train:\", y_train[:5])\n",
        "print(\"Type of y_train:\",type(y_train))"
      ],
      "id": "Axc34iO386pP"
    },
    {
      "cell_type": "markdown",
      "metadata": {
        "id": "hvxmDuNk86pP"
      },
      "source": [
        "#### Check the dimensions of your variables\n",
        "\n",
        "Another useful way to get familiar with your data is to view its dimensions.\n",
        "\n",
        "Please print the shape of `X_train` and `y_train` and see how many training examples you have in your dataset."
      ],
      "id": "hvxmDuNk86pP"
    },
    {
      "cell_type": "code",
      "execution_count": null,
      "metadata": {
        "deletable": false,
        "editable": false,
        "colab": {
          "base_uri": "https://localhost:8080/"
        },
        "id": "pbpsO8yB86pP",
        "outputId": "a3e9c62d-f9a7-4e2c-fe57-be89f7dd4efd"
      },
      "outputs": [
        {
          "output_type": "stream",
          "name": "stdout",
          "text": [
            "The shape of X_train is: (10, 3)\n",
            "The shape of y_train is:  (10,)\n",
            "Number of training examples (m): 10\n"
          ]
        }
      ],
      "source": [
        "print ('The shape of X_train is:', X_train.shape)\n",
        "print ('The shape of y_train is: ', y_train.shape)\n",
        "print ('Number of training examples (m):', len(X_train))"
      ],
      "id": "pbpsO8yB86pP"
    },
    {
      "cell_type": "markdown",
      "metadata": {
        "id": "YVMGHjy_86pP"
      },
      "source": [
        "<a name=\"4\"></a>\n",
        "## 4 - Decision Tree Refresher\n",
        "\n",
        "In this assignment, you will build a decision tree based on the dataset provided.\n",
        "\n",
        "- Recall that the steps for building a decision tree are as follows:\n",
        "    - Start with all examples at the root node.\n",
        "    - Calculate information gain for splitting on all possible features, and pick the one with the highest information gain.\n",
        "    - Split dataset according to the selected feature, and create left and right branches of the tree.\n",
        "    - Keep repeating splitting process until stopping criteria is met.\n",
        "  \n",
        "  \n",
        "- In this lab, you'll implement the following functions, which will let you split a node into left and right branches using the feature with the highest information gain.\n",
        "    - Calculate the entropy at a node.\n",
        "    - Split the dataset at a node into left and right branches based on a given feature.\n",
        "    - Calculate the information gain from splitting on a given feature.\n",
        "    - Choose the feature that maximizes information gain.\n",
        "    - Use the helper functions for doing the tasks above to build a decision tree by repeating the splitting\n",
        "      process recursively until we hit a stopping criterion, which for this assignment is: the tree has a max\n",
        "      depth of 2."
      ],
      "id": "YVMGHjy_86pP"
    },
    {
      "cell_type": "markdown",
      "metadata": {
        "id": "qBoStImP86pQ"
      },
      "source": [
        "<a name=\"4.1\"></a>\n",
        "### 4.1  Calculate entropy\n",
        "\n",
        "First, you'll write a helper function called `compute_entropy` that computes the entropy (measure of impurity) at a node.\n",
        "- The function takes in a numpy array (`y`) that indicates whether the examples in that node are edible (`1`) or poisonous(`0`)\n",
        "\n",
        "Complete the `compute_entropy()` function below to:\n",
        "* Compute $p_1$, which is the fraction of examples that are edible (i.e. have value = `1` in `y`)\n",
        "* The entropy is then calculated as\n",
        "\n",
        "$$H(p_1) = -p_1 \\text{log}_2(p_1) - (1- p_1) \\text{log}_2(1- p_1)$$\n",
        "* Note\n",
        "    * The log is calculated with base $2$\n",
        "    * For implementation purposes, $0\\text{log}_2(0) = 0$. That is, if `p_1 = 0` or `p_1 = 1`, set the entropy to `0`\n",
        "    * Make sure to check that the data at a node is not empty (i.e. `len(y) != 0`). Return `0` if it is\n",
        "    \n",
        "<a name=\"ex01\"></a>\n",
        "### Exercise 1\n",
        "\n",
        "Complete the `compute_entropy()` function using the previous instructions."
      ],
      "id": "qBoStImP86pQ"
    },
    {
      "cell_type": "code",
      "execution_count": null,
      "metadata": {
        "deletable": false,
        "id": "kSwlxJsg86pQ"
      },
      "outputs": [],
      "source": [
        "def compute_entropy(y):\n",
        "    \"\"\"\n",
        "    Computes the entropy for\n",
        "\n",
        "    Args:\n",
        "       y (ndarray): Numpy array indicating whether each example at a node is\n",
        "           edible (`1`) or poisonous (`0`)\n",
        "\n",
        "    Returns:\n",
        "        entropy (float): Entropy at that node\n",
        "\n",
        "    \"\"\"\n",
        "    # You need to return the following variables correctly\n",
        "    entropy = 0.\n",
        "\n",
        "    ### START CODE HERE ###\n",
        "    if len(y) == 0: return 0\n",
        "    p1 = np.sum(y)/len(y)\n",
        "    if p1 == 0 or p1 == 1:\n",
        "      return 0\n",
        "    else:\n",
        "      entropy = (-p1 * np.log2(p1) - (1-p1)*np.log2(1-p1))\n",
        "\n",
        "    ### END CODE HERE ###\n",
        "\n",
        "    return entropy"
      ],
      "id": "kSwlxJsg86pQ"
    },
    {
      "cell_type": "markdown",
      "metadata": {
        "id": "fXrnA4eO86pQ"
      },
      "source": [
        "You can check your implementation by running the following test code:"
      ],
      "id": "fXrnA4eO86pQ"
    },
    {
      "cell_type": "code",
      "execution_count": null,
      "metadata": {
        "deletable": false,
        "editable": false,
        "colab": {
          "base_uri": "https://localhost:8080/"
        },
        "id": "q3--N9Uk86pQ",
        "outputId": "24312f46-9bf2-419e-da1c-a96245133bde"
      },
      "outputs": [
        {
          "output_type": "stream",
          "name": "stdout",
          "text": [
            "Entropy at root node:  1.0\n",
            "\u001b[92m All tests passed.\n"
          ]
        }
      ],
      "source": [
        "# Compute entropy at the root node (i.e. with all examples)\n",
        "# Since we have 5 edible and 5 non-edible mushrooms, the entropy should be 1\"\n",
        "\n",
        "print(\"Entropy at root node: \", compute_entropy(y_train))\n",
        "\n",
        "# UNIT TESTS\n",
        "compute_entropy_test(compute_entropy)"
      ],
      "id": "q3--N9Uk86pQ"
    },
    {
      "cell_type": "markdown",
      "metadata": {
        "id": "iv1Ry1Ag86pQ"
      },
      "source": [
        "**Expected Output**:\n",
        "<table>\n",
        "  <tr>\n",
        "    <td> <b>Entropy at root node:<b> 1.0 </td>\n",
        "  </tr>\n",
        "</table>"
      ],
      "id": "iv1Ry1Ag86pQ"
    },
    {
      "cell_type": "markdown",
      "metadata": {
        "id": "4F6yu53786pQ"
      },
      "source": [
        "<a name=\"4.2\"></a>\n",
        "### 4.2  Split dataset\n",
        "\n",
        "Next, you'll write a helper function called `split_dataset` that takes in the data at a node and a feature to split on and splits it into left and right branches. Later in the lab, you'll implement code to calculate how good the split is.\n",
        "\n",
        "- The function takes in the training data, the list of indices of data points at that node, along with the feature to split on.\n",
        "- It splits the data and returns the subset of indices at the left and the right branch.\n",
        "- For example, say we're starting at the root node (so `node_indices = [0,1,2,3,4,5,6,7,8,9]`), and we chose to split on feature `0`, which is whether or not the example has a brown cap.\n",
        "    - The output of the function is then, `left_indices = [0,1,2,3,4,7,9]` (data points with brown cap) and `right_indices = [5,6,8]` (data points without a brown cap)\n",
        "    \n",
        "    \n",
        "|       |                                                    | Brown Cap | Tapering Stalk Shape | Solitary | Edible |\n",
        "|-------|:--------------------------------------------------:|:---------:|:--------------------:|:--------:|:------:|\n",
        "| 0     | <img src=\"images/0.png\" alt=\"drawing\" width=\"50\"/> |     1     |           1          |     1    |    1   |\n",
        "| 1     | <img src=\"images/1.png\" alt=\"drawing\" width=\"50\"/> |     1     |           0          |     1    |    1   |\n",
        "| 2     | <img src=\"images/2.png\" alt=\"drawing\" width=\"50\"/> |     1     |           0          |     0    |    0   |\n",
        "| 3     | <img src=\"images/3.png\" alt=\"drawing\" width=\"50\"/> |     1     |           0          |     0    |    0   |\n",
        "| 4     | <img src=\"images/4.png\" alt=\"drawing\" width=\"50\"/> |     1     |           1          |     1    |    1   |\n",
        "| 5     | <img src=\"images/5.png\" alt=\"drawing\" width=\"50\"/> |     0     |           1          |     1    |    0   |\n",
        "| 6     | <img src=\"images/6.png\" alt=\"drawing\" width=\"50\"/> |     0     |           0          |     0    |    0   |\n",
        "| 7     | <img src=\"images/7.png\" alt=\"drawing\" width=\"50\"/> |     1     |           0          |     1    |    1   |\n",
        "| 8     | <img src=\"images/8.png\" alt=\"drawing\" width=\"50\"/> |     0     |           1          |     0    |    1   |\n",
        "| 9     | <img src=\"images/9.png\" alt=\"drawing\" width=\"50\"/> |     1     |           0          |     0    |    0   |\n",
        "    \n",
        "<a name=\"ex02\"></a>\n",
        "### Exercise 2\n",
        "\n",
        "Complete the `split_dataset()` function shown below:\n",
        "\n",
        "- For each index in `node_indices`\n",
        "    - If the value of `X` at that index for that feature is `1`, add the index to `left_indices`\n",
        "    - If the value of `X` at that index for that feature is `0`, add the index to `right_indices`"
      ],
      "id": "4F6yu53786pQ"
    },
    {
      "cell_type": "code",
      "execution_count": null,
      "metadata": {
        "deletable": false,
        "id": "QdTFh9ds86pQ"
      },
      "outputs": [],
      "source": [
        "def split_dataset(X, node_indices, feature):\n",
        "    \"\"\"\n",
        "    Splits the data at the given node into\n",
        "    left and right branches\n",
        "\n",
        "    Args:\n",
        "        X (ndarray):             Data matrix of shape(n_samples, n_features)\n",
        "        node_indices (list):     List containing the active indices. I.e, the samples being considered at this step.\n",
        "        feature (int):           Index of feature to split on\n",
        "\n",
        "    Returns:\n",
        "        left_indices (list):     Indices with feature value == 1\n",
        "        right_indices (list):    Indices with feature value == 0\n",
        "    \"\"\"\n",
        "\n",
        "    # You need to return the following variables correctly\n",
        "    left_indices = []\n",
        "    right_indices = []\n",
        "\n",
        "    ### START CODE HERE ###\n",
        "    left_indices = [i for i in node_indices if X[i, feature] == 1]\n",
        "    right_indices = [i for i in node_indices if X[i, feature] == 0]\n",
        "\n",
        "    ### END CODE HERE ###\n",
        "\n",
        "    return left_indices, right_indices"
      ],
      "id": "QdTFh9ds86pQ"
    },
    {
      "cell_type": "markdown",
      "metadata": {
        "id": "vCFAA72886pQ"
      },
      "source": [
        "Now, check your implementation using the code block below which splits the dataset at the root node (containing all of  the examples in the dataset) and which uses feature 0 (Brown Cap) as discussed above."
      ],
      "id": "vCFAA72886pQ"
    },
    {
      "cell_type": "code",
      "execution_count": null,
      "metadata": {
        "deletable": false,
        "colab": {
          "base_uri": "https://localhost:8080/"
        },
        "id": "ogOOhTNo86pR",
        "outputId": "ce4f4b04-5cec-4f8b-828e-b45ef65003f2"
      },
      "outputs": [
        {
          "output_type": "stream",
          "name": "stdout",
          "text": [
            "Left indices:  [0, 1, 2, 3, 4, 7, 9]\n",
            "Right indices:  [5, 6, 8]\n",
            "\u001b[92m All tests passed.\n"
          ]
        }
      ],
      "source": [
        "root_indices = [0, 1, 2, 3, 4, 5, 6, 7, 8, 9]\n",
        "\n",
        "# Feel free to play around with these variables\n",
        "# The dataset only has three features, so this value can be 0 (Brown Cap), 1 (Tapering Stalk Shape) or 2 (Solitary)\n",
        "feature = 0\n",
        "\n",
        "left_indices, right_indices = split_dataset(X_train, root_indices, feature)\n",
        "\n",
        "print(\"Left indices: \", left_indices)\n",
        "print(\"Right indices: \", right_indices)\n",
        "\n",
        "# UNIT TESTS\n",
        "split_dataset_test(split_dataset)"
      ],
      "id": "ogOOhTNo86pR"
    },
    {
      "cell_type": "markdown",
      "metadata": {
        "id": "XnrYn1s886pR"
      },
      "source": [
        "**Expected Output**:\n",
        "```\n",
        "Left indices:  [0, 1, 2, 3, 4, 7, 9]\n",
        "Right indices:  [5, 6, 8]\n",
        "```"
      ],
      "id": "XnrYn1s886pR"
    },
    {
      "cell_type": "markdown",
      "metadata": {
        "id": "Z4r3vPyp86pR"
      },
      "source": [
        "<a name=\"4.3\"></a>\n",
        "### 4.3  Calculate information gain\n",
        "\n",
        "Next, you'll write a function called `information_gain` that takes in the training data, the indices at a node and a feature to split on and returns the information gain from the split.\n",
        "\n",
        "<a name=\"ex03\"></a>\n",
        "### Exercise 3\n",
        "\n",
        "Please complete the `compute_information_gain()` function shown below to compute\n",
        "\n",
        "$$\\text{Information Gain} = H(p_1^\\text{node})- (w^{\\text{left}}H(p_1^\\text{left}) + w^{\\text{right}}H(p_1^\\text{right}))$$\n",
        "\n",
        "where\n",
        "- $H(p_1^\\text{node})$ is entropy at the node.\n",
        "- $H(p_1^\\text{left})$ and $H(p_1^\\text{right})$ are the entropies at the left and the right branches resulting from the split.\n",
        "- $w^{\\text{left}}$ and $w^{\\text{right}}$ are the proportion of examples at the left and right branch, respectively.\n",
        "\n",
        "Note:\n",
        "- You can use the `compute_entropy()` function that you implemented above to calculate the entropy.\n",
        "- Starter code has been provided that uses the `split_dataset()` function you implemented above to split the dataset."
      ],
      "id": "Z4r3vPyp86pR"
    },
    {
      "cell_type": "code",
      "execution_count": null,
      "metadata": {
        "deletable": false,
        "id": "hOLN2PjM86pR"
      },
      "outputs": [],
      "source": [
        "def compute_information_gain(X, y, node_indices, feature):\n",
        "\n",
        "    \"\"\"\n",
        "    Compute the information of splitting the node on a given feature\n",
        "\n",
        "    Args:\n",
        "        X (ndarray):            Data matrix of shape(n_samples, n_features)\n",
        "        y (array like):         list or ndarray with n_samples containing the target variable\n",
        "        node_indices (ndarray): List containing the active indices. I.e, the samples being considered in this step.\n",
        "\n",
        "    Returns:\n",
        "        cost (float):        Cost computed\n",
        "\n",
        "    \"\"\"\n",
        "    # Split dataset\n",
        "    left_indices, right_indices = split_dataset(X, node_indices, feature)\n",
        "\n",
        "    # Some useful variables\n",
        "    X_node, y_node = X[node_indices], y[node_indices]\n",
        "    X_left, y_left = X[left_indices], y[left_indices]\n",
        "    X_right, y_right = X[right_indices], y[right_indices]\n",
        "\n",
        "    # You need to return the following variables correctly\n",
        "    information_gain = 0\n",
        "\n",
        "    ### START CODE HERE ###\n",
        "    w_left = len(X_left)/len(X_node)\n",
        "    w_right = len(X_right)/len(X_node)\n",
        "    information_gain = compute_entropy(y_node) - (w_left*compute_entropy(y_left) + w_right*compute_entropy(y_right))\n",
        "\n",
        "\n",
        "    ### END CODE HERE ###\n",
        "\n",
        "    return information_gain"
      ],
      "id": "hOLN2PjM86pR"
    },
    {
      "cell_type": "markdown",
      "metadata": {
        "id": "mqNO2D7J86pR"
      },
      "source": [
        "Check your implementation using the cell below and calculate what the information gain would be from splitting on each of the featues"
      ],
      "id": "mqNO2D7J86pR"
    },
    {
      "cell_type": "code",
      "execution_count": null,
      "metadata": {
        "deletable": false,
        "editable": false,
        "colab": {
          "base_uri": "https://localhost:8080/"
        },
        "id": "09Bfpn6z86pR",
        "outputId": "0417dffe-b720-43db-f563-f0e95ba23c4c"
      },
      "outputs": [
        {
          "output_type": "stream",
          "name": "stdout",
          "text": [
            "Information Gain from splitting the root on brown cap:  0.034851554559677034\n",
            "Information Gain from splitting the root on tapering stalk shape:  0.12451124978365313\n",
            "Information Gain from splitting the root on solitary:  0.2780719051126377\n",
            "\u001b[92m All tests passed.\n"
          ]
        }
      ],
      "source": [
        "info_gain0 = compute_information_gain(X_train, y_train, root_indices, feature=0)\n",
        "print(\"Information Gain from splitting the root on brown cap: \", info_gain0)\n",
        "\n",
        "info_gain1 = compute_information_gain(X_train, y_train, root_indices, feature=1)\n",
        "print(\"Information Gain from splitting the root on tapering stalk shape: \", info_gain1)\n",
        "\n",
        "info_gain2 = compute_information_gain(X_train, y_train, root_indices, feature=2)\n",
        "print(\"Information Gain from splitting the root on solitary: \", info_gain2)\n",
        "\n",
        "# UNIT TESTS\n",
        "compute_information_gain_test(compute_information_gain)"
      ],
      "id": "09Bfpn6z86pR"
    },
    {
      "cell_type": "markdown",
      "metadata": {
        "id": "NWyvjV_486pR"
      },
      "source": [
        "**Expected Output**:\n",
        "```\n",
        "Information Gain from splitting the root on brown cap:  0.034851554559677034\n",
        "Information Gain from splitting the root on tapering stalk shape:  0.12451124978365313\n",
        "Information Gain from splitting the root on solitary:  0.2780719051126377\n",
        "```"
      ],
      "id": "NWyvjV_486pR"
    },
    {
      "cell_type": "markdown",
      "metadata": {
        "id": "ro7rUwWo86pR"
      },
      "source": [
        "Splitting on \"Solitary\" (feature = 2) at the root node gives the maximum information gain. Therefore, it's the best feature to split on at the root node."
      ],
      "id": "ro7rUwWo86pR"
    },
    {
      "cell_type": "markdown",
      "metadata": {
        "id": "y7GzTTvp86pR"
      },
      "source": [
        "<a name=\"4.4\"></a>\n",
        "### 4.4  Get best split\n",
        "Now let's write a function to get the best feature to split on by computing the information gain from each feature as we did above and returning the feature that gives the maximum information gain\n",
        "\n",
        "<a name=\"ex04\"></a>\n",
        "### Exercise 4\n",
        "Complete the `get_best_split()` function shown below.\n",
        "- The function takes in the training data, along with the indices of datapoint at that node\n",
        "- The output of the function is the feature that gives the maximum information gain\n",
        "    - You can use the `compute_information_gain()` function to iterate through the features and calculate the information for each feature\n",
        "If you get stuck, you can check out the hints presented after the cell below to help you with the implementation."
      ],
      "id": "y7GzTTvp86pR"
    },
    {
      "cell_type": "code",
      "execution_count": null,
      "metadata": {
        "deletable": false,
        "id": "CCPvug7E86pR"
      },
      "outputs": [],
      "source": [
        "def get_best_split(X, y, node_indices):\n",
        "    \"\"\"\n",
        "    returns the optimal feature and threshold value\n",
        "    to split the node data\n",
        "\n",
        "    Args:\n",
        "        X (ndarray):            Data matrix of shape(n_samples, n_features)\n",
        "        y (array like):         list or ndarray with n_samples containing the target variable\n",
        "        node_indices (ndarray): List containing the active indices. I.e, the samples being considered in this step.\n",
        "\n",
        "    Returns:\n",
        "        best_feature (int):     The index of the best feature to split\n",
        "    \"\"\"\n",
        "\n",
        "    # Some useful variables\n",
        "    num_features = X.shape[1]\n",
        "\n",
        "    # You need to return the following variables correctly\n",
        "    best_feature = -1\n",
        "\n",
        "    ### START CODE HERE ###\n",
        "    max_gain = 0\n",
        "    for feature in range(num_features):\n",
        "      gain = compute_information_gain(X, y, node_indices, feature)\n",
        "      if gain > max_gain:\n",
        "        max_gain = gain\n",
        "        best_feature = feature\n",
        "\n",
        "    ### END CODE HERE ##\n",
        "\n",
        "    return best_feature"
      ],
      "id": "CCPvug7E86pR"
    },
    {
      "cell_type": "markdown",
      "metadata": {
        "id": "PPhwc6Kj86pS"
      },
      "source": [
        "Now, check the implementation of your function using the cell below."
      ],
      "id": "PPhwc6Kj86pS"
    },
    {
      "cell_type": "code",
      "execution_count": null,
      "metadata": {
        "deletable": false,
        "editable": false,
        "colab": {
          "base_uri": "https://localhost:8080/"
        },
        "id": "qBMpIFFJ86pS",
        "outputId": "aee120bc-119e-4617-a928-4064d5a00c8d"
      },
      "outputs": [
        {
          "output_type": "stream",
          "name": "stdout",
          "text": [
            "Best feature to split on: 2\n",
            "\u001b[92m All tests passed.\n"
          ]
        }
      ],
      "source": [
        "best_feature = get_best_split(X_train, y_train, root_indices)\n",
        "print(\"Best feature to split on: %d\" % best_feature)\n",
        "\n",
        "# UNIT TESTS\n",
        "get_best_split_test(get_best_split)"
      ],
      "id": "qBMpIFFJ86pS"
    },
    {
      "cell_type": "markdown",
      "metadata": {
        "id": "mv-Swmm_86pS"
      },
      "source": [
        "The function returns that the best feature to split on at the root node is feature 2 (\"Solitary\")"
      ],
      "id": "mv-Swmm_86pS"
    },
    {
      "cell_type": "markdown",
      "metadata": {
        "id": "u7324UmD86pS"
      },
      "source": [
        "<a name=\"5\"></a>\n",
        "## 5 - Building the tree\n",
        "\n",
        "In this section, the code block uses the functions you implemented above to generate a decision tree by successively picking the best feature to split on until we reach the stopping criteria (maximum depth is 2).\n",
        "\n",
        "You do not need to implement anything for this part."
      ],
      "id": "u7324UmD86pS"
    },
    {
      "cell_type": "code",
      "execution_count": null,
      "metadata": {
        "deletable": false,
        "id": "9e5Ze4Bq86pS"
      },
      "outputs": [],
      "source": [
        "tree = []\n",
        "\n",
        "def build_tree_recursive(X, y, node_indices, branch_name, max_depth, current_depth):\n",
        "    \"\"\"\n",
        "    Build a tree using the recursive algorithm that split the dataset into 2 subgroups at each node.\n",
        "    This function just prints the tree.\n",
        "\n",
        "    Args:\n",
        "        X (ndarray):            Data matrix of shape(n_samples, n_features)\n",
        "        y (array like):         list or ndarray with n_samples containing the target variable\n",
        "        node_indices (ndarray): List containing the active indices. I.e, the samples being considered in this step.\n",
        "        branch_name (string):   Name of the branch. ['Root', 'Left', 'Right']\n",
        "        max_depth (int):        Max depth of the resulting tree.\n",
        "        current_depth (int):    Current depth. Parameter used during recursive call.\n",
        "\n",
        "    \"\"\"\n",
        "\n",
        "    # Maximum depth reached - stop splitting\n",
        "    if current_depth == max_depth:\n",
        "        formatting = \" \"*current_depth + \"-\"*current_depth\n",
        "        print(formatting, \"%s leaf node with indices\" % branch_name, node_indices)\n",
        "        return\n",
        "\n",
        "    # Otherwise, get best split and split the data\n",
        "    # Get the best feature and threshold at this node\n",
        "    best_feature = get_best_split(X, y, node_indices)\n",
        "\n",
        "    formatting = \"-\"*current_depth\n",
        "    print(\"%s Depth %d, %s: Split on feature: %d\" % (formatting, current_depth, branch_name, best_feature))\n",
        "\n",
        "    # Split the dataset at the best feature\n",
        "    left_indices, right_indices = split_dataset(X, node_indices, best_feature)\n",
        "    tree.append((left_indices, right_indices, best_feature))\n",
        "\n",
        "    # continue splitting the left and the right child. Increment current depth\n",
        "    build_tree_recursive(X, y, left_indices, \"Left\", max_depth, current_depth+1)\n",
        "    build_tree_recursive(X, y, right_indices, \"Right\", max_depth, current_depth+1)"
      ],
      "id": "9e5Ze4Bq86pS"
    },
    {
      "cell_type": "code",
      "execution_count": null,
      "metadata": {
        "deletable": false,
        "colab": {
          "base_uri": "https://localhost:8080/"
        },
        "id": "rzkG-32Q86pS",
        "outputId": "aad1e1b4-2272-4e5c-a0ba-3b60f6ca93d0"
      },
      "outputs": [
        {
          "output_type": "stream",
          "name": "stdout",
          "text": [
            " Depth 0, Root: Split on feature: 2\n",
            "- Depth 1, Left: Split on feature: 0\n",
            "  -- Left leaf node with indices [0, 1, 4, 7]\n",
            "  -- Right leaf node with indices [5]\n",
            "- Depth 1, Right: Split on feature: 1\n",
            "  -- Left leaf node with indices [8]\n",
            "  -- Right leaf node with indices [2, 3, 6, 9]\n"
          ]
        }
      ],
      "source": [
        "build_tree_recursive(X_train, y_train, root_indices, \"Root\", max_depth=2, current_depth=0)"
      ],
      "id": "rzkG-32Q86pS"
    }
  ],
  "metadata": {
    "kernelspec": {
      "display_name": "Python 3",
      "language": "python",
      "name": "python3"
    },
    "language_info": {
      "codemirror_mode": {
        "name": "ipython",
        "version": 3
      },
      "file_extension": ".py",
      "mimetype": "text/x-python",
      "name": "python",
      "nbconvert_exporter": "python",
      "pygments_lexer": "ipython3",
      "version": "3.8.5"
    },
    "colab": {
      "provenance": []
    }
  },
  "nbformat": 4,
  "nbformat_minor": 5
}