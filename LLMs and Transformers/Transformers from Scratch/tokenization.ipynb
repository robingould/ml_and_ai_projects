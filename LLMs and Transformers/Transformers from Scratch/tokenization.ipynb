{
 "cells": [
  {
   "cell_type": "code",
   "execution_count": 22,
   "metadata": {},
   "outputs": [],
   "source": [
    "import string"
   ]
  },
  {
   "cell_type": "markdown",
   "metadata": {},
   "source": [
    "Building a word level tokenizer\n",
    "\n",
    "https://medium.com/analytics-vidhya/tokenization-building-a-tokenizer-and-a-sentencizer-c19a00393c19"
   ]
  },
  {
   "cell_type": "code",
   "execution_count": 23,
   "metadata": {},
   "outputs": [],
   "source": [
    "class Sentencizer:\n",
    "    # split sentances at every period, question mark, exclamation point or colon\n",
    "    def __init__(self, input_text, split_chars=['.', '?', '!', ':'], delimiter_token = '<SPLIT>'):\n",
    "        # our output sentences after splitting\n",
    "        self.sentences = []\n",
    "\n",
    "        # raw text to split\n",
    "        self.raw = str(input_text)\n",
    "\n",
    "        self.split_chars = split_chars\n",
    "        self.delimiter_token = delimiter_token\n",
    "        self.index = 0\n",
    "        self.sentencize()\n",
    "    \n",
    "    def sentencize(self):\n",
    "        # copy raw data\n",
    "        copy_sentence = self.raw\n",
    "\n",
    "        # for every splitting character\n",
    "        for char in self.split_chars:\n",
    "            # replace the character with the <SPLIT> token\n",
    "            copy_sentence = copy_sentence.replace(char, char+\"\"+self.delimiter_token)\n",
    "        # split the copied sentences by the <SPLIT> tokens and place into sentences \n",
    "        self.sentences = [x.strip() for x in copy_sentence.split(self.delimiter_token) if x != '']\n",
    "\n",
    "    # iterator\n",
    "    def __iter__(self):\n",
    "        return self\n",
    "    \n",
    "    def __next__(self):\n",
    "        if self.index < len(self.sentences):\n",
    "            result = self.tokens[self.index]\n",
    "            self.index += 1\n",
    "            return result\n",
    "        raise StopIteration"
   ]
  },
  {
   "cell_type": "code",
   "execution_count": 24,
   "metadata": {},
   "outputs": [],
   "source": [
    "# take in sentence and turn it into tokens\n",
    "class Tokenizer:\n",
    "    # split a sentence into tokens at every spaces and dashes\n",
    "    def __init__(self, sentence, token_split=[' ', '-'], punctuations=string.punctuation, delimiter_token = '<SPLIT>'):\n",
    "        # our output sentences after splitting\n",
    "        self.tokens = []\n",
    "\n",
    "        # raw text to split\n",
    "        self.raw = str(sentence)\n",
    "\n",
    "        self.token_split = token_split\n",
    "        self.delimiter_token = delimiter_token\n",
    "\n",
    "        # pre-process punctuation from words\n",
    "        self.punctuations = punctuations\n",
    "        self.index = 0\n",
    "        self.tokenize()\n",
    "    \n",
    "    def tokenize(self):\n",
    "        # copy raw data\n",
    "        copy_sentence = self.raw\n",
    "\n",
    "        # punctuation processing by separating with whitespace\n",
    "        for punctuation in self.punctuations:\n",
    "            # replace the character with the <SPLIT> token\n",
    "            copy_sentence = copy_sentence.replace(punctuation, \" \"+punctuation+\" \")\n",
    "\n",
    "        for delimiter in self.token_split:\n",
    "            # replace the character with the <SPLIT> token\n",
    "            copy_sentence = copy_sentence.replace(delimiter, self.delimiter_token)\n",
    "        # split the copied sentences by the <SPLIT> tokens and place into sentences \n",
    "        self.tokens = [x.strip() for x in copy_sentence.split(self.delimiter_token) if x != '']\n",
    "\n",
    "    # iterator\n",
    "    def __iter__(self):\n",
    "        return self\n",
    "    \n",
    "    def __next__(self):\n",
    "        if self.index < len(self.tokens):\n",
    "            result = self.tokens[self.index]\n",
    "            self.index += 1\n",
    "            return result\n",
    "        raise StopIteration"
   ]
  },
  {
   "cell_type": "code",
   "execution_count": 25,
   "metadata": {},
   "outputs": [
    {
     "name": "stdout",
     "output_type": "stream",
     "text": [
      "[\"Gregor Samsa wakes up one morning to find himself transformed into a 'monstrous vermin'.\", 'He initially considers the transformation to be temporary and slowly ponders the consequences of this metamorphosis.', \"Stuck on his back and unable to get up and leave the bed, Gregor reflects on his job as a traveling salesman and cloth merchant, which he characterizes as being full of 'temporary and constantly changing human relationships, which never come from the heart'.\", \"He sees his employer as a despot and would quickly quit his job if he were not his family's sole breadwinner and working off his bankrupt father's debts.\", \"While trying to move, Gregor finds that his office manager, the chief clerk, has shown up to check on him, indignant about Gregor's unexcused absence.\", 'Gregor attempts to communicate with both the manager and his family, but all they can hear from behind the door is incomprehensible vocalizations.', 'Gregor laboriously drags himself across the floor and opens the door.', 'The clerk, upon seeing the transformed Gregor, flees the apartment.', \"Gregor's family is horrified, and his father drives him back into his room, injuring his side by shoving him when he gets stuck in the doorway.\"]\n",
      "['Gregor', 'Samsa', 'wakes', 'up', 'one', 'morning', 'to', 'find', 'himself', 'transformed', 'into', 'a', \"'\", 'monstrous', 'vermin', \"'\", '.']\n",
      "['He', 'initially', 'considers', 'the', 'transformation', 'to', 'be', 'temporary', 'and', 'slowly', 'ponders', 'the', 'consequences', 'of', 'this', 'metamorphosis', '.']\n",
      "['Stuck', 'on', 'his', 'back', 'and', 'unable', 'to', 'get', 'up', 'and', 'leave', 'the', 'bed', ',', 'Gregor', 'reflects', 'on', 'his', 'job', 'as', 'a', 'traveling', 'salesman', 'and', 'cloth', 'merchant', ',', 'which', 'he', 'characterizes', 'as', 'being', 'full', 'of', \"'\", 'temporary', 'and', 'constantly', 'changing', 'human', 'relationships', ',', 'which', 'never', 'come', 'from', 'the', 'heart', \"'\", '.']\n",
      "['He', 'sees', 'his', 'employer', 'as', 'a', 'despot', 'and', 'would', 'quickly', 'quit', 'his', 'job', 'if', 'he', 'were', 'not', 'his', 'family', \"'\", 's', 'sole', 'breadwinner', 'and', 'working', 'off', 'his', 'bankrupt', 'father', \"'\", 's', 'debts', '.']\n",
      "['While', 'trying', 'to', 'move', ',', 'Gregor', 'finds', 'that', 'his', 'office', 'manager', ',', 'the', 'chief', 'clerk', ',', 'has', 'shown', 'up', 'to', 'check', 'on', 'him', ',', 'indignant', 'about', 'Gregor', \"'\", 's', 'unexcused', 'absence', '.']\n",
      "['Gregor', 'attempts', 'to', 'communicate', 'with', 'both', 'the', 'manager', 'and', 'his', 'family', ',', 'but', 'all', 'they', 'can', 'hear', 'from', 'behind', 'the', 'door', 'is', 'incomprehensible', 'vocalizations', '.']\n",
      "['Gregor', 'laboriously', 'drags', 'himself', 'across', 'the', 'floor', 'and', 'opens', 'the', 'door', '.']\n",
      "['The', 'clerk', ',', 'upon', 'seeing', 'the', 'transformed', 'Gregor', ',', 'flees', 'the', 'apartment', '.']\n",
      "['Gregor', \"'\", 's', 'family', 'is', 'horrified', ',', 'and', 'his', 'father', 'drives', 'him', 'back', 'into', 'his', 'room', ',', 'injuring', 'his', 'side', 'by', 'shoving', 'him', 'when', 'he', 'gets', 'stuck', 'in', 'the', 'doorway', '.']\n"
     ]
    }
   ],
   "source": [
    "sentence = Sentencizer(f\"Gregor Samsa wakes up one morning to find himself transformed into a 'monstrous vermin'. He initially considers the transformation to be temporary and slowly ponders the consequences of this metamorphosis. Stuck on his back and unable to get up and leave the bed, Gregor reflects on his job as a traveling salesman and cloth merchant, which he characterizes as being full of 'temporary and constantly changing human relationships, which never come from the heart'. He sees his employer as a despot and would quickly quit his job if he were not his family's sole breadwinner and working off his bankrupt father's debts. While trying to move, Gregor finds that his office manager, the chief clerk, has shown up to check on him, indignant about Gregor's unexcused absence. Gregor attempts to communicate with both the manager and his family, but all they can hear from behind the door is incomprehensible vocalizations. Gregor laboriously drags himself across the floor and opens the door. The clerk, upon seeing the transformed Gregor, flees the apartment. Gregor's family is horrified, and his father drives him back into his room, injuring his side by shoving him when he gets stuck in the doorway.\")\n",
    "print(sentence.sentences)\n",
    "\n",
    "for sentence in sentence.sentences:\n",
    "    print(Tokenizer(sentence).tokens)"
   ]
  }
 ],
 "metadata": {
  "kernelspec": {
   "display_name": "venv",
   "language": "python",
   "name": "python3"
  },
  "language_info": {
   "codemirror_mode": {
    "name": "ipython",
    "version": 3
   },
   "file_extension": ".py",
   "mimetype": "text/x-python",
   "name": "python",
   "nbconvert_exporter": "python",
   "pygments_lexer": "ipython3",
   "version": "3.10.4"
  }
 },
 "nbformat": 4,
 "nbformat_minor": 2
}
