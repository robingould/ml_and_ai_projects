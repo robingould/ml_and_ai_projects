{
  "cells": [
    {
      "cell_type": "markdown",
      "metadata": {
        "id": "vIDTG3Uug64i"
      },
      "source": [
        "# LeNet Network"
      ]
    },
    {
      "cell_type": "code",
      "execution_count": null,
      "metadata": {
        "id": "0oCqU7zSfvmf"
      },
      "outputs": [],
      "source": [
        "import tensorflow as tf\n",
        "\n",
        "from tensorflow.keras import models\n",
        "from tensorflow.keras import layers"
      ]
    },
    {
      "cell_type": "markdown",
      "metadata": {},
      "source": [
        "LeNet is a convolution encoder with a block of convolution layers and a dense block with fully connected layers. We use sigmoid activation function because this is what was used in LeNet (early 90s). "
      ]
    },
    {
      "cell_type": "code",
      "execution_count": 8,
      "metadata": {
        "id": "L02IcfEohW-S"
      },
      "outputs": [],
      "source": [
        "from tensorflow.keras import backend as K\n",
        "\n",
        "# Defining a custom gaussian activation function, not offered by keras\n",
        "def gauss(x):\n",
        "  return K.exp(-K.pow(x, 2))\n",
        "\n",
        "\n",
        "def build_lenet_model():\n",
        "  # First we need to intialize the model\n",
        "  model = models.Sequential(name = 'LeNet')\n",
        "\n",
        "  # First Convolutional Layer: This layer uses 6 filters of size 5x5, stride of 1, and sigmoid activation.\n",
        "  # 'Same' padding is used to preserve the spatial dimensions of the image after convolution.\n",
        "  model.add(layers.Conv2D(filters=6, kernel_size=(5, 5), strides=(1, 1), activation='sigmoid', input_shape=(28, 28, 1), padding=\"same\"))\n",
        "\n",
        "  # First Pooling Layer: This layer uses average pooling with a 2x2 pool size and a stride of 2.\n",
        "  # This reduces the spatial dimensions (height and width) of the input by half.\n",
        "  model.add(layers.AveragePooling2D(pool_size=(2, 2), strides=(2, 2), padding='valid'))\n",
        "\n",
        "  # Second Convolutional Layer: This layer is used to increase the depth to 16 with 5x5 filters and sigmoid activation.\n",
        "  # No padding is used here, so the spatial dimensions will reduce.\n",
        "  model.add(layers.Conv2D(filters=16, kernel_size=(5, 5), strides=(1, 1), activation='sigmoid', padding='valid'))\n",
        "\n",
        "  # Second Pooling Layer: This layer is used to further reduce the spatial dimensions by half.\n",
        "  model.add(layers.AveragePooling2D(pool_size=(2, 2), strides=(2, 2), padding='valid'))\n",
        "\n",
        "\n",
        "  #Flatten the CNN output so that we can connect it with fully connected layers.\n",
        "  model.add(layers.Flatten())\n",
        "\n",
        "  # Two Fully Connected Layers: These layers are used to reduce dimensionality to 84 and is still using sigmoid activation.\n",
        "\n",
        "  model.add(layers.Dense(120, activation='sigmoid'))\n",
        "  model.add(layers.Dense(84, activation='sigmoid'))\n",
        "\n",
        "  # Output Layer: This is a dense layer with 10 units for the 10 possible classes and is using gaussian activation\n",
        "  model.add(layers.Dense(10, activation=gauss))\n",
        "\n",
        "  return model"
      ]
    },
    {
      "cell_type": "code",
      "execution_count": 10,
      "metadata": {
        "colab": {
          "base_uri": "https://localhost:8080/"
        },
        "id": "d5DpXLUEjvgV",
        "outputId": "2c1c0fe8-373e-4d37-c2d0-2f5a63ff9705"
      },
      "outputs": [
        {
          "name": "stdout",
          "output_type": "stream",
          "text": [
            "Model: \"LeNet\"\n",
            "_________________________________________________________________\n",
            " Layer (type)                Output Shape              Param #   \n",
            "=================================================================\n",
            " conv2d_9 (Conv2D)           (None, 32, 32, 6)         156       \n",
            "                                                                 \n",
            " average_pooling2d_8 (Avera  (None, 16, 16, 6)         0         \n",
            " gePooling2D)                                                    \n",
            "                                                                 \n",
            " conv2d_10 (Conv2D)          (None, 12, 12, 16)        2416      \n",
            "                                                                 \n",
            " average_pooling2d_9 (Avera  (None, 6, 6, 16)          0         \n",
            " gePooling2D)                                                    \n",
            "                                                                 \n",
            " conv2d_11 (Conv2D)          (None, 2, 2, 120)         48120     \n",
            "                                                                 \n",
            " flatten_1 (Flatten)         (None, 480)               0         \n",
            "                                                                 \n",
            " dense_2 (Dense)             (None, 84)                40404     \n",
            "                                                                 \n",
            " dense_3 (Dense)             (None, 10)                850       \n",
            "                                                                 \n",
            "=================================================================\n",
            "Total params: 91946 (359.16 KB)\n",
            "Trainable params: 91946 (359.16 KB)\n",
            "Non-trainable params: 0 (0.00 Byte)\n",
            "_________________________________________________________________\n"
          ]
        }
      ],
      "source": [
        "# Lastly, we will build and summarize the LeNet Model.\n",
        "lenet_model = build_lenet_model()\n",
        "lenet_model.summary()"
      ]
    },
    {
      "cell_type": "markdown",
      "metadata": {
        "id": "XfxbmfwYhAJX"
      },
      "source": [
        "# AlexNet Network"
      ]
    },
    {
      "cell_type": "code",
      "execution_count": 11,
      "metadata": {
        "id": "noIfDsYIhEJS"
      },
      "outputs": [],
      "source": [
        "import tensorflow as tf\n",
        "\n",
        "from tensorflow.keras import models\n",
        "from tensorflow.keras import layers"
      ]
    },
    {
      "cell_type": "code",
      "execution_count": 16,
      "metadata": {
        "id": "FRTAjUFplUe1"
      },
      "outputs": [],
      "source": [
        "def build_alexnet_model():\n",
        "  # Here we are nitializing the model.\n",
        "  model = models.Sequential(name='AlexNet')\n",
        "\n",
        "  # First Convolutional Layer: This layer uses 96 filters of size 11x11, stride of 4, and relu activation to introduce non-linearity.\n",
        "  # Large stride and kernel size help reduce dimensionality.\n",
        "  model.add(layers.Conv2D(filters=96, kernel_size=(11, 11), strides=(4, 4), activation='relu', input_shape=(224, 224, 3)))\n",
        "  model.add(layers.BatchNormalization())\n",
        "  model.add(layers.MaxPooling2D(pool_size=(3, 3), strides=(2, 2)))\n",
        "\n",
        "  # Second Convolutional Layer: This layer increases the depth to 256 with a smaller 5x5 filter,still using relu activation.\n",
        "  # Padding is set to 'same' to maintain dimensionality.\n",
        "  model.add(layers.Conv2D(filters=256, kernel_size=(5, 5), activation='relu', padding='same'))\n",
        "  model.add(layers.BatchNormalization())\n",
        "  model.add(layers.MaxPooling2D(pool_size=(3, 3), strides=(2, 2)))\n",
        "\n",
        "  # Third Convolutional Layer: This layer uses 384 filters of size 3x3 and is using relu activation.\n",
        "  # The network goes deeper with more filters but smaller filter sizes and is focusing on extracting more complex features.\n",
        "  model.add(layers.Conv2D(filters=384, kernel_size=(3, 3), activation='relu', padding='same'))\n",
        "\n",
        "  # Fourth Convolutional Layer: This layer uses the same configurations as the previous one to further deepen the network.\n",
        "  model.add(layers.Conv2D(filters=384, kernel_size=(3, 3), activation='relu', padding='same'))\n",
        "\n",
        "  # Fifth Convolutional Layer: This layer is reducing the depth slightly to 256 and is aiming to combine the features learned previously.\n",
        "  model.add(layers.Conv2D(filters=256, kernel_size=(3, 3), activation='relu', padding='same'))\n",
        "  model.add(layers.MaxPooling2D(pool_size=(3, 3), strides=(2, 2)))\n",
        "\n",
        "  # Flatten the output to feed into the fully connected layers.\n",
        "  model.add(layers.Flatten())\n",
        "\n",
        "  # First Fully Connected Layer: This layer uses 4096 neurons and relu activation. Dropout is used to reduce overfitting.\n",
        "  model.add(layers.Dense(4096, activation='relu'))\n",
        "  model.add(layers.Dropout(0.5))\n",
        "\n",
        "  # Second Fully Connected Layer: This layer has identical configuration to the previous dense layer to further process the features extracted by the convolutional layers.\n",
        "  model.add(layers.Dense(4096, activation='relu'))\n",
        "  model.add(layers.Dropout(0.5))\n",
        "\n",
        "  # Output Layer: This layer uses 1000 units for the 1000 possible classes in the ImageNet challenge and is using softmax activation for probability distribution.\n",
        "  model.add(layers.Dense(1000, activation='softmax'))\n",
        "\n",
        "  return model"
      ]
    },
    {
      "cell_type": "code",
      "execution_count": 17,
      "metadata": {
        "colab": {
          "base_uri": "https://localhost:8080/"
        },
        "id": "oV_c4vr9mFBk",
        "outputId": "0160ef2e-414f-46d0-94f2-4cba15177146"
      },
      "outputs": [
        {
          "name": "stdout",
          "output_type": "stream",
          "text": [
            "Model: \"AlexNet\"\n",
            "_________________________________________________________________\n",
            " Layer (type)                Output Shape              Param #   \n",
            "=================================================================\n",
            " conv2d_17 (Conv2D)          (None, 55, 55, 96)        34944     \n",
            "                                                                 \n",
            " batch_normalization_2 (Bat  (None, 55, 55, 96)        384       \n",
            " chNormalization)                                                \n",
            "                                                                 \n",
            " max_pooling2d_3 (MaxPoolin  (None, 27, 27, 96)        0         \n",
            " g2D)                                                            \n",
            "                                                                 \n",
            " conv2d_18 (Conv2D)          (None, 27, 27, 256)       614656    \n",
            "                                                                 \n",
            " batch_normalization_3 (Bat  (None, 27, 27, 256)       1024      \n",
            " chNormalization)                                                \n",
            "                                                                 \n",
            " max_pooling2d_4 (MaxPoolin  (None, 13, 13, 256)       0         \n",
            " g2D)                                                            \n",
            "                                                                 \n",
            " conv2d_19 (Conv2D)          (None, 13, 13, 384)       885120    \n",
            "                                                                 \n",
            " conv2d_20 (Conv2D)          (None, 13, 13, 384)       1327488   \n",
            "                                                                 \n",
            " conv2d_21 (Conv2D)          (None, 13, 13, 256)       884992    \n",
            "                                                                 \n",
            " max_pooling2d_5 (MaxPoolin  (None, 6, 6, 256)         0         \n",
            " g2D)                                                            \n",
            "                                                                 \n",
            " flatten_2 (Flatten)         (None, 9216)              0         \n",
            "                                                                 \n",
            " dense_7 (Dense)             (None, 4096)              37752832  \n",
            "                                                                 \n",
            " dropout_2 (Dropout)         (None, 4096)              0         \n",
            "                                                                 \n",
            " dense_8 (Dense)             (None, 4096)              16781312  \n",
            "                                                                 \n",
            " dropout_3 (Dropout)         (None, 4096)              0         \n",
            "                                                                 \n",
            " dense_9 (Dense)             (None, 1000)              4097000   \n",
            "                                                                 \n",
            "=================================================================\n",
            "Total params: 62379752 (237.96 MB)\n",
            "Trainable params: 62379048 (237.96 MB)\n",
            "Non-trainable params: 704 (2.75 KB)\n",
            "_________________________________________________________________\n"
          ]
        }
      ],
      "source": [
        "# Here we are buidling and summarizing the AlexNet Model.\n",
        "alexnet_model = build_alexnet_model()\n",
        "alexnet_model.summary()"
      ]
    }
  ],
  "metadata": {
    "accelerator": "GPU",
    "colab": {
      "gpuType": "T4",
      "provenance": []
    },
    "kernelspec": {
      "display_name": "Python 3",
      "name": "python3"
    },
    "language_info": {
      "name": "python"
    }
  },
  "nbformat": 4,
  "nbformat_minor": 0
}
